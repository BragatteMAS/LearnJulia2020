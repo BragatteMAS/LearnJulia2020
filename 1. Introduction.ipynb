{
 "cells": [
  {
   "cell_type": "markdown",
   "metadata": {},
   "source": [
    "# 1. Learn Julia: Beyond the basics\n",
    "\n",
    "## Using examples from epidemic modelling"
   ]
  },
  {
   "cell_type": "markdown",
   "metadata": {},
   "source": [
    "In this workshop, we will learn some fundamentals of the Julia language beyond the basics: types and how to define them, dispatch, and generic programming.\n",
    "\n",
    "In my experience, learning programming language concepts is more fun and useful when they are embedded in the context of a particular application. Given the current situation (as of July 2020), **epidemic modelling** provides a key context. We will look at the simplest possible models for epidemics.\n",
    "\n",
    "We will take as given that you know basic use of variables, functions, `for` loops, and vectors, as well as basic plotting (with the `Plots.jl` library) and vectors in Julia."
   ]
  },
  {
   "cell_type": "markdown",
   "metadata": {},
   "source": [
    "We will see various ways to **simulate** the **dynamics** of an **epidemic**, i.e., an outbreak of an infectious disease. In a population of people with $N$ individuals we will be interested in how the number of susceptible ($S$), infectious ($I$) and recovered ($R$) individuals changes over time.\n",
    "\n",
    "\n",
    "We will begin by looking at simple models that take into account only total numbers of people.\n",
    "But the main goal will be to see how to structure a more complicated **individual-based** or **agent-based** simulation, where we model individual people moving around space and interacting with one another. \n",
    "\n",
    "For simplicity, those individuals will be modelled as **random walks** on a grid, i.e. points that choose a neighbouring grid point at random to jump to.\n",
    "\n",
    "Since this is a workshop about Julia and not about epidemic modelling *per se*, the models we will use are all very (too) simple. However, once we have the basic ideas and Julia techniques, swapping in a more sophisticated mathematical model becomes much easier.\n",
    "\n",
    "The models we will study are **stochastic** (or random), i.e. they use probability and random numbers. You only need a basic idea of what it means for something to happen with a given probability, say $p=\\frac{1}{4}$: it means that you roll a die with 4 sides and do the action only if, say, the number 4 appears (which has a chance of 1 in 4 of appearing)."
   ]
  },
  {
   "cell_type": "markdown",
   "metadata": {},
   "source": [
    "## Goal"
   ]
  },
  {
   "cell_type": "markdown",
   "metadata": {},
   "source": [
    "The main goal is to become comfortable with the use of intermediate-level concepts such as types, multiple dispatch and generic programming, as well as to cover some Julia style tips.\n",
    "\n",
    "[Comments inside square brackets, like this, are technical side remarks giving more precision about a statement, and should be ignored on a first reading!]"
   ]
  },
  {
   "cell_type": "markdown",
   "metadata": {},
   "source": [
    "Since this is a workshop, there will be plenty of exercises. You will get much more out of the workshop if you attempt them. I will go over some solutions during the workshop. As usual with programming, there is more than one way to do things though!\n",
    "\n",
    "We almost certainly will not have enough time to go over all the exercises; you should think of the remainder as being homework exercises."
   ]
  },
  {
   "cell_type": "markdown",
   "metadata": {},
   "source": [
    "## Modelling recovery"
   ]
  },
  {
   "cell_type": "markdown",
   "metadata": {},
   "source": [
    "Let's warm up by thinking about how to model the dynamics of a person recovering from an infection.\n",
    "\n",
    "Let's start off by supposing that we have 1 person that just got infected. \n",
    "\n",
    "We will model the recovery process as follows: at each step, the person recovers **with probability $p$**.\n",
    "We can think of this as flipping a biased coin: with probability $p$ we get heads, and with probability $1-p$ we get tails. [This is a [**Bernoulli trial**](https://en.wikipedia.org/wiki/Bernoulli_trial).]"
   ]
  },
  {
   "cell_type": "markdown",
   "metadata": {},
   "source": [
    "Let's write a *function* to model this, since we will call this code many times and functions promote code re-use."
   ]
  },
  {
   "cell_type": "code",
   "execution_count": null,
   "metadata": {},
   "outputs": [],
   "source": [
    "\"Flip a biased coin with probability \\$p\\$\"\n",
    "function coin(p)\n",
    "    r = rand()\n",
    "    \n",
    "    return r < p\n",
    "end"
   ]
  },
  {
   "cell_type": "markdown",
   "metadata": {},
   "source": [
    "What is going on here? \n",
    "\n",
    "- The first line is a **docstring**, i.e. a string that describes the purpose of the function. If we do `?coin`, we will see this help text. The `$` signs allow us to use LaTeX for equations.\n",
    "\n",
    "\n",
    "- We are defining a function called `coin`, which takes a parameter `p` and will return `true` or `false`. \n",
    "\n",
    "    Functions should be \"small\" (or preferably tiny) and do a *single thing* that is clear from the name. Usually they will take input data as parameters and return output data that is obtained by calculating using the inputs. They are designed to be **re-usable**.\n",
    "\n",
    "\n",
    "\n",
    "- We define a local variable `r` as the result of calling the function `rand`. The variable `r` exists only inside the function.\n",
    "\n",
    "\n",
    "- `rand()` returns a random floating-point number (an approximate real number) that is uniformly distributed in the interval $[0, 1)$.\n",
    "\n",
    "\n",
    "- In Julia every expression has a value. In this case, `r < p` is a Boolean operator that returns `true` or `false`.\n",
    "\n",
    "\n",
    "- We return that Boolean value as the return value of the function. It is not necessary to use the keyword `return`; Julia will automatically return the last value calculated in the function."
   ]
  },
  {
   "cell_type": "code",
   "execution_count": null,
   "metadata": {},
   "outputs": [],
   "source": [
    "c = coin(1/3)"
   ]
  },
  {
   "cell_type": "markdown",
   "metadata": {},
   "source": [
    "(You can run the same cell over and over again with `Ctrl-Enter`)"
   ]
  },
  {
   "cell_type": "markdown",
   "metadata": {},
   "source": [
    "There is an equivalent way to write this using a short-form or \"assignment form\" function definition:"
   ]
  },
  {
   "cell_type": "code",
   "execution_count": null,
   "metadata": {},
   "outputs": [],
   "source": [
    "coin(p) = rand() < p"
   ]
  },
  {
   "cell_type": "markdown",
   "metadata": {},
   "source": [
    "For simple functions like this it is very common to see short-form functions. Just be careful: Don't let them become un-readable because you're trying to squeeze too much into a single line!"
   ]
  },
  {
   "cell_type": "markdown",
   "metadata": {},
   "source": [
    "## Run many times: Automation"
   ]
  },
  {
   "cell_type": "markdown",
   "metadata": {},
   "source": [
    "Suppose that we would like to run this function many times. We don't want to do this by hand, of course. Rather we want to **automate** this using a loop."
   ]
  },
  {
   "cell_type": "markdown",
   "metadata": {},
   "source": [
    "**Exercise**: \n",
    "1. Run `coin` $N=100$ times and store the results in a `Vector`. Can you think of two different ways to do this in Julia?\n",
    "\n",
    "\n",
    "2. In Julia we should always aim to have useful code inside a **function**. Make a function `coins` that takes as parameters $N$ and $p$ and runs `coin` $N$ times with probability $p$, and returns a vector of the results. \n",
    "\n",
    "    Note: It is almost never useful to *print things out* (except possibly when debugging to see what's going wrong inside a function). Instead, *return* the results!\n",
    "\n",
    "\n",
    "3. Make a function `success_rate` that calculates the proportion of times that recovery was successful. Make sure to *re-use* the work that you have already done!\n",
    "\n",
    "\n",
    "4. Run `success_rate` 1000 times and store the result in a variable. Make a histogram of the result.\n",
    "\n",
    "\n",
    "5. Use `Interact.jl` to make an interactive visualization of taking the histogram of different amounts of data from this data set."
   ]
  },
  {
   "cell_type": "code",
   "execution_count": null,
   "metadata": {},
   "outputs": [],
   "source": []
  },
  {
   "cell_type": "markdown",
   "metadata": {},
   "source": [
    "## Time to recover"
   ]
  },
  {
   "cell_type": "markdown",
   "metadata": {},
   "source": [
    "Now let's think about a single person and ask \"how long does it take for that person to recover?\"."
   ]
  },
  {
   "cell_type": "markdown",
   "metadata": {},
   "source": [
    "#### Exercise:"
   ]
  },
  {
   "cell_type": "markdown",
   "metadata": {},
   "source": [
    "1. Write a function `recovery_time` that calculates the time it takes *until* the person  recovers.\n",
    "\n",
    "\n",
    "2. Plot the probability distribution of recovery times."
   ]
  },
  {
   "cell_type": "code",
   "execution_count": null,
   "metadata": {},
   "outputs": [],
   "source": []
  },
  {
   "cell_type": "markdown",
   "metadata": {},
   "source": [
    "## Decay pathways"
   ]
  },
  {
   "cell_type": "markdown",
   "metadata": {},
   "source": [
    "How does the infection \"decay\"?"
   ]
  },
  {
   "cell_type": "markdown",
   "metadata": {},
   "source": [
    "#### Exercise\n",
    "\n",
    "1. Write a function `recovered` that returns a `Vector` of integers that says whether the person is still infected (1) or has recovered (0) at time $t$, for $t$ from 0 to 50.\n",
    "\n",
    "\n",
    "2. Plot a few runs of the function on a single graph.\n",
    "\n",
    "\n",
    "3. Find the proportion of the people that have recovered by time $t$ as a function of $t$ and plot it. How does it behave?"
   ]
  },
  {
   "cell_type": "code",
   "execution_count": null,
   "metadata": {},
   "outputs": [],
   "source": []
  }
 ],
 "metadata": {
  "@webio": {
   "lastCommId": "0c53cc4bb42448328e6702dbf937adb8",
   "lastKernelId": "b3f55c11-bc44-498a-aab2-b938f81c629c"
  },
  "kernelspec": {
   "display_name": "Julia 1.5.0-beta1",
   "language": "julia",
   "name": "julia-1.5"
  },
  "language_info": {
   "file_extension": ".jl",
   "mimetype": "application/julia",
   "name": "julia",
   "version": "1.5.0"
  }
 },
 "nbformat": 4,
 "nbformat_minor": 4
}
